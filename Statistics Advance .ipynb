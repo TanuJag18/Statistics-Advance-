{
 "cells": [
  {
   "cell_type": "code",
   "execution_count": 1,
   "id": "4ab020fa-7034-4a45-8318-b44ee0605b2e",
   "metadata": {},
   "outputs": [],
   "source": [
    "#Q1.What is a random variable in probability theory\n",
    "#Ans: A random variable is a function that assigns numerical values to the outcomes of a random experiment, allowing us to analyze probabilities using mathematical tools. It transforms qualitative outcomes into quantitative data."
   ]
  },
  {
   "cell_type": "code",
   "execution_count": null,
   "id": "001cf20f-bb95-4cd8-a074-24277fc9b737",
   "metadata": {},
   "outputs": [],
   "source": [
    "#Q2. What are the types of random variables?\n",
    "#Ans:There are two primary types of random variables:\n",
    "#Discrete random variables: These can only take on a countable number of distinct values.\n",
    "#Continuous random variables: These can take on any value within a given range."
   ]
  },
  {
   "cell_type": "code",
   "execution_count": null,
   "id": "9d03484e-9ad0-4a10-914c-ffa8bc0cbe9c",
   "metadata": {},
   "outputs": [],
   "source": [
    "#Q3. What is the difference between discrete and continuous distributions\n",
    "#Ans:Discrete distributions deal with countable values (like whole numbers), assigning probabilities to individual outcomes.\n",
    "#Continuous distributions handle values within a range (including decimals), using probability density to describe likelihood across that range."
   ]
  },
  {
   "cell_type": "code",
   "execution_count": null,
   "id": "15423574-c66a-421e-9fe7-661cd8fe9939",
   "metadata": {},
   "outputs": [],
   "source": [
    "#Q4.What are probability distribution functions (PDF)\n",
    "#Ans:Probability distribution functions (PDFs) describe the likelihood of a continuous random variable taking on a specific value within a given range. They are non-negative functions, and the total area under the curve equals 1."
   ]
  },
  {
   "cell_type": "code",
   "execution_count": null,
   "id": "a1550b7e-ef7b-4d3a-a16c-346437f33d17",
   "metadata": {},
   "outputs": [],
   "source": [
    "#Q5. How do cumulative distribution functions (CDF) differ from probability distribution functions (PDF)\n",
    "#Ans:Cumulative distribution functions (CDFs) give the probability that a random variable is less than or equal to a certain value, accumulating probabilities up to that point. In contrast, probability distribution functions (PDFs) describe the likelihood of a continuous random variable taking on a specific value or within a small interval."
   ]
  },
  {
   "cell_type": "code",
   "execution_count": null,
   "id": "364eaa7f-3de8-473b-b7a7-a74919198131",
   "metadata": {},
   "outputs": [],
   "source": [
    "#Q6. What is a discrete uniform distribution\n",
    "#Ans:A discrete uniform distribution describes a situation where a finite number of distinct outcomes are equally likely to occur. 1  Each outcome has the same probability of being observed."
   ]
  },
  {
   "cell_type": "code",
   "execution_count": null,
   "id": "57b55305-8c51-4196-a42d-ae89275f2b53",
   "metadata": {},
   "outputs": [],
   "source": [
    "#Q7. What are the key properties of a Bernoulli distribution\n",
    "#Ans: The Bernoulli distribution models a single experiment with two possible outcomes: success (with probability p) and failure (with probability 1-p). Its key properties include having a mean equal to p and a variance of p(1-p)"
   ]
  },
  {
   "cell_type": "code",
   "execution_count": null,
   "id": "4aadd9d9-9361-473b-b138-4371f0567b1f",
   "metadata": {},
   "outputs": [],
   "source": [
    "#Q8. What is the binomial distribution, and how is it used in probability\n",
    "#Ans: The binomial distribution models the probability of obtaining a certain number of successes in a fixed number of independent 1  trials, each with the same probability of success. It is widely used 2  to analyze scenarios with binary outcomes, like coin flips or pass/fail tests, by calculating the likelihood of specific numbers of successes"
   ]
  },
  {
   "cell_type": "code",
   "execution_count": null,
   "id": "b6e7c177-83ef-4331-86e1-ad7568b6eed7",
   "metadata": {},
   "outputs": [],
   "source": [
    "#Q9. What is the Poisson distribution and where is it applied\n",
    "#Ans:The Poisson distribution models the probability of a certain number of events occurring within a fixed interval at a known average rate, and it's applied in areas like queuing theory, reliability analysis, and biology to analyze counts of rare, independent events."
   ]
  },
  {
   "cell_type": "code",
   "execution_count": null,
   "id": "33e21122-bb15-4f8b-9070-7e08edfcb439",
   "metadata": {},
   "outputs": [],
   "source": [
    "#Q10.What is a continuous uniform distribution\n",
    "#Ans:A continuous uniform distribution describes a random variable that has an equal probability of taking on any value within a specified continuous interval."
   ]
  },
  {
   "cell_type": "code",
   "execution_count": null,
   "id": "98141f86-2ff9-4a56-a8e4-92128402e0ba",
   "metadata": {},
   "outputs": [],
   "source": [
    "#Q11.What are the characteristics of a normal distribution\n",
    "#Ans: The normal distribution is a symmetrical, bell-shaped distribution where the mean, median, and mode are equal, and the spread is defined by the standard deviation, following the empirical rule (68-95-99.7%)."
   ]
  },
  {
   "cell_type": "code",
   "execution_count": null,
   "id": "b330e364-8a4d-4655-a471-278b049f77d0",
   "metadata": {},
   "outputs": [],
   "source": [
    "#Q12. What is the standard normal distribution, and why is it important\n",
    "#Ans: The standard normal distribution is a normal distribution with a mean of 0 and a standard deviation of 1, and it's important because it allows us to standardize any normal distribution for easy probability calculations and comparisons using z-scores and standard normal tables."
   ]
  },
  {
   "cell_type": "code",
   "execution_count": null,
   "id": "c281aecb-48e2-4810-9f57-082f08683ea5",
   "metadata": {},
   "outputs": [],
   "source": [
    "#Q13. What is the Central Limit Theorem (CLT), and why is it critical in statistics\n",
    "#Ans: The Central Limit Theorem (CLT) states that the distribution of sample means tends towards a normal distribution as sample size increases, making it critical for applying normal-based statistical inference to diverse data, even with unknown underlying distributions."
   ]
  },
  {
   "cell_type": "code",
   "execution_count": null,
   "id": "fc8fb9e2-10ba-4c3d-b06c-1538f2a8c967",
   "metadata": {},
   "outputs": [],
   "source": [
    "#Q14. How does the Central Limit Theorem relate to the normal distribution\n",
    "#Ans:The Central Limit Theorem establishes that the distribution of sample means approaches a normal distribution as the sample size increases, regardless of the original population's 1  distribution."
   ]
  },
  {
   "cell_type": "code",
   "execution_count": null,
   "id": "173ea41b-5727-4a0e-b21d-7fa0446024de",
   "metadata": {},
   "outputs": [],
   "source": [
    "#Q15. What is the application of Z statistics in hypothesis testing\n",
    "#Ans:The Z statistic in hypothesis testing quantifies how many standard deviations a sample mean deviates from the population mean (under the null hypothesis), allowing us to assess the statistical significance of the difference and decide whether to reject the null hypothesis."
   ]
  },
  {
   "cell_type": "code",
   "execution_count": null,
   "id": "dec6ffd2-1b64-427d-9414-5f43488171b7",
   "metadata": {},
   "outputs": [],
   "source": [
    "#Q16. How do you calculate a Z-score, and what does it represent\n",
    "#Ans: A Z-score is calculated by subtracting the population mean from a data point and then dividing by the population standard deviation: Z = (x - μ) / σ. 1  It represents the number of standard deviations a data point is away from the mean of its distribution, indicating how unusual or typical that data point is"
   ]
  },
  {
   "cell_type": "code",
   "execution_count": null,
   "id": "21f0b9fe-1c2a-4a29-8809-22771ae07cd8",
   "metadata": {},
   "outputs": [],
   "source": [
    "#Q17.What are point estimates and interval estimates in statistics\n",
    "#Ans: Point estimates are single values estimating population parameters, while interval estimates provide a range of values likely containing the parameter with a certain confidence level."
   ]
  },
  {
   "cell_type": "code",
   "execution_count": null,
   "id": "bb230c5b-4d9a-4b3e-8176-f12256855582",
   "metadata": {},
   "outputs": [],
   "source": [
    "#Q18. What is the significance of confidence intervals in statistical analysis\n",
    "#Ans:Confidence intervals provide a plausible range of values for an unknown population parameter, offering a measure of the uncertainty associated with a point estimate derived from a sample"
   ]
  },
  {
   "cell_type": "code",
   "execution_count": null,
   "id": "33e7d966-97e3-4104-813b-99bfbedbffdc",
   "metadata": {},
   "outputs": [],
   "source": [
    "#Q19. What is the relationship between a Z-score and a confidence interval\n",
    "#Ans: Z-scores define the number of standard errors away from the mean that capture a specific level of confidence in a confidence interval for the population mean."
   ]
  },
  {
   "cell_type": "code",
   "execution_count": null,
   "id": "5867afb7-5260-4f0d-b3bf-581266f4dabb",
   "metadata": {},
   "outputs": [],
   "source": [
    "#Q20.How are Z-scores used to compare different distributions\n",
    "#Ans: Z-scores standardize data points from different distributions to a common scale (mean of 0, standard deviation of 1), allowing for direct comparison of their relative positions."
   ]
  },
  {
   "cell_type": "code",
   "execution_count": null,
   "id": "245f2a1e-acb4-4701-a838-f1a2aa4710fe",
   "metadata": {},
   "outputs": [],
   "source": [
    "#Q21. What are the assumptions for applying the Central Limit Theorem\n",
    "#Ans: The Central Limit Theorem relies on a few key assumptions:\n",
    "#Independence: The samples drawn from the population must be independent of each other, meaning one observation does not influence another.\n",
    "#Sufficiently Large Sample Size: While there's no strict rule, a sample size of n ≥ 30 is often considered sufficient for the CLT to hold, especially if the original population is not heavily skewed."
   ]
  },
  {
   "cell_type": "code",
   "execution_count": null,
   "id": "806cffaa-b3a2-474b-be59-7bcfcf8d96e7",
   "metadata": {},
   "outputs": [],
   "source": [
    "#Q22.What is the concept of expected value in a probability distribution\n",
    "#Ans: The expected value is the long-run average value of a random variable, calculated as the weighted average of all possible values, where the weights are their probabilities."
   ]
  },
  {
   "cell_type": "code",
   "execution_count": null,
   "id": "25133244-9bb0-4179-9e00-b54fc7167661",
   "metadata": {},
   "outputs": [],
   "source": [
    "#Q23. How does a probability distribution relate to the expected outcome of a random variable?\n",
    "#Ans: A probability distribution assigns probabilities to each outcome of a random variable, and the expected outcome is the probability-weighted average of these outcomes."
   ]
  }
 ],
 "metadata": {
  "kernelspec": {
   "display_name": "Python 3 (ipykernel)",
   "language": "python",
   "name": "python3"
  },
  "language_info": {
   "codemirror_mode": {
    "name": "ipython",
    "version": 3
   },
   "file_extension": ".py",
   "mimetype": "text/x-python",
   "name": "python",
   "nbconvert_exporter": "python",
   "pygments_lexer": "ipython3",
   "version": "3.11.5"
  }
 },
 "nbformat": 4,
 "nbformat_minor": 5
}
